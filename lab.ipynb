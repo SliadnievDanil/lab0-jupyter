{
 "cells": [
  {
   "metadata": {
    "ExecuteTime": {
     "end_time": "2024-11-23T04:35:05.203132Z",
     "start_time": "2024-11-23T04:35:05.199362Z"
    }
   },
   "cell_type": "code",
   "source": [
    "N = ord('D') % 5 + 1\n",
    "print(N)"
   ],
   "id": "e1ac98ce736aebab",
   "outputs": [
    {
     "name": "stdout",
     "output_type": "stream",
     "text": [
      "4\n"
     ]
    }
   ],
   "execution_count": 2
  },
  {
   "metadata": {
    "ExecuteTime": {
     "end_time": "2024-11-23T04:22:58.559459Z",
     "start_time": "2024-11-23T04:22:57.427891Z"
    }
   },
   "cell_type": "code",
   "source": [
    "import cv2\n",
    "from PIL import Image, ImageDraw\n",
    "import numpy as np\n",
    "import pandas as pd\n",
    "\n",
    "\n",
    "excel_file = 'lab6.xlsx'\n",
    "try:\n",
    "    df = pd.read_excel(excel_file)\n",
    "except FileNotFoundError:\n",
    "    raise FileNotFoundError(f\"File {excel_file} is not found!\")\n",
    "\n",
    "\n",
    "def color_from_text(color_text):\n",
    "    color_map = {\n",
    "        'red': (255, 0, 0),\n",
    "        'blue': (0, 0, 255),\n",
    "        'cian': (0, 255, 255),\n",
    "        'magenta': (255, 0, 255),\n",
    "        'yellow': (255, 255, 0)\n",
    "    }\n",
    "    return color_map.get(color_text.lower(), (0, 0, 0))  \n",
    "\n",
    "\n",
    "def add_glasses_and_resize(image, output_size, glasses_color, line_width):\n",
    "    gray = cv2.cvtColor(image, cv2.COLOR_BGR2GRAY)\n",
    "    \n",
    "    \n",
    "    face_cascade = cv2.CascadeClassifier(cv2.data.haarcascades + 'haarcascade_frontalface_default.xml')\n",
    "    eye_cascade = cv2.CascadeClassifier(cv2.data.haarcascades + 'haarcascade_eye.xml')\n",
    "    \n",
    "\n",
    "    faces = face_cascade.detectMultiScale(gray, scaleFactor=1.3, minNeighbors=5)\n",
    "    \n",
    "    for (x, y, w, h) in faces:\n",
    "        roi_gray = gray[y:y + h, x:x + w]\n",
    "        \n",
    "       \n",
    "        eyes = eye_cascade.detectMultiScale(roi_gray)\n",
    "        \n",
    "        if len(eyes) >= 2:\n",
    "            eyes = sorted(eyes, key=lambda e: e[0])\n",
    "            pil_image = Image.fromarray(cv2.cvtColor(image, cv2.COLOR_BGR2RGB))\n",
    "            draw = ImageDraw.Draw(pil_image)\n",
    "            eye_centers = []\n",
    "            radii = []\n",
    "            for (ex, ey, ew, eh) in eyes[:2]:  \n",
    "                eye_center = (x + ex + ew // 2, y + ey + eh // 2)\n",
    "                eye_centers.append(eye_center)\n",
    "                radius = max(ew, eh) // 2\n",
    "                radii.append(radius)\n",
    "                draw.ellipse(\n",
    "                    [\n",
    "                        (eye_center[0] - radius, eye_center[1] - radius),\n",
    "                        (eye_center[0] + radius, eye_center[1] + radius),\n",
    "                    ],\n",
    "                    outline=glasses_color,\n",
    "                    width=line_width,\n",
    "                )\n",
    "            \n",
    "            if len(eye_centers) == 2:\n",
    "                left_edge = (eye_centers[0][0] + radii[0], eye_centers[0][1])\n",
    "                right_edge = (eye_centers[1][0] - radii[1], eye_centers[1][1])\n",
    "                draw.line([left_edge, right_edge], fill=glasses_color, width=line_width)\n",
    "                \n",
    "\n",
    "                left_ear_x = eye_centers[0][0] - 2 * radii[0]\n",
    "                draw.line(\n",
    "                    [(eye_centers[0][0] - radii[0], eye_centers[0][1]),\n",
    "                     (left_ear_x, eye_centers[0][1])],\n",
    "                    fill=glasses_color,\n",
    "                    width=line_width,\n",
    "                )\n",
    "                \n",
    "\n",
    "                right_ear_x = eye_centers[1][0] + 2 * radii[1]\n",
    "                draw.line(\n",
    "                    [(eye_centers[1][0] + radii[1], eye_centers[1][1]),\n",
    "                     (right_ear_x, eye_centers[1][1])],\n",
    "                    fill=glasses_color,\n",
    "                    width=line_width,\n",
    "                )\n",
    "            \n",
    "           \n",
    "            image = cv2.cvtColor(np.array(pil_image), cv2.COLOR_RGB2BGR)\n",
    "            break  \n",
    "\n",
    "    \n",
    "    height, width = image.shape[:2]\n",
    "    new_width, new_height = output_size\n",
    "    \n",
    "    \n",
    "    if height > new_height or width > new_width:\n",
    "        scale_factor = min(new_height / height, new_width / width)\n",
    "        new_dim = (int(width * scale_factor), int(height * scale_factor))\n",
    "        image = cv2.resize(image, new_dim, interpolation=cv2.INTER_AREA)\n",
    "    \n",
    "    \n",
    "    height, width = image.shape[:2]\n",
    "    x_offset = (new_width - width) // 2\n",
    "    y_offset = (new_height - height) // 2\n",
    "\n",
    "   \n",
    "    centered_image = np.ones((new_height, new_width, 3), dtype=np.uint8) * 255\n",
    "\n",
    "    \n",
    "    centered_image[y_offset:y_offset+height, x_offset:x_offset+width] = image\n",
    "    \n",
    "    return centered_image\n",
    "\n",
    "\n",
    "for index, row in df.iterrows():\n",
    "    image_file = row['file name']\n",
    "    try:\n",
    "        output_size = tuple(map(int, row['image size'].split('x')))\n",
    "        glasses_color = color_from_text(row['glasses color'])\n",
    "        line_width = int(row['line width'])\n",
    "\n",
    "        \n",
    "        original_image = cv2.imread(image_file)\n",
    "        if original_image is None:\n",
    "            print(f\"File {image_file} is not found, skip...\")\n",
    "            continue\n",
    "\n",
    "      \n",
    "        processed_image = add_glasses_and_resize(original_image, output_size, glasses_color, line_width)\n",
    "\n",
    "        \n",
    "        output_path = f\"processed_{image_file}\"\n",
    "        cv2.imwrite(output_path, processed_image)\n",
    "        print(f\"Result saved: {output_path}\")\n",
    "    except Exception as e:\n",
    "        print(f\"Error {image_file}: {e}\")\n"
   ],
   "id": "e1ae9a815fa9fd11",
   "outputs": [
    {
     "name": "stdout",
     "output_type": "stream",
     "text": [
      "Result saved: processed_emma-watson2.jpg\n",
      "Result saved: processed_emma-watson.jpg\n",
      "Result saved: processed_draco.jpg\n",
      "Result saved: processed_longbottom.jpg\n",
      "Result saved: processed_ron_wesley.jpg\n"
     ]
    }
   ],
   "execution_count": 1
  }
 ],
 "metadata": {
  "kernelspec": {
   "display_name": "Python 3",
   "language": "python",
   "name": "python3"
  },
  "language_info": {
   "codemirror_mode": {
    "name": "ipython",
    "version": 2
   },
   "file_extension": ".py",
   "mimetype": "text/x-python",
   "name": "python",
   "nbconvert_exporter": "python",
   "pygments_lexer": "ipython2",
   "version": "2.7.6"
  }
 },
 "nbformat": 4,
 "nbformat_minor": 5
}
