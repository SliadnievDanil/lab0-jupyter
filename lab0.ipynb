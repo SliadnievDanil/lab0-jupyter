{
 "cells": [
  {
   "metadata": {},
   "cell_type": "markdown",
   "source": [
    "# Джибуті\n",
    "\n",
    "## Основна інформація:\n",
    "- **Площа**: 23 200 км²\n",
    "- **Населення**: 1 000 000 осіб\n",
    "- **Державний устрій**: Республіка\n",
    "\n",
    "## Видатні особистості:\n",
    "1. Ісмаїл Омар Гелле - Президент Джибуті\n",
    "2. Гасан Гулієд Аптідон - Перший Президент Джибуті\n",
    "\n",
    "## Культурні та природні пам'ятки:\n",
    "- Озеро Ассаль\n",
    "- Лавові поля\n",
    "- Національний музей Джибуті\n"
   ],
   "id": "edc8a54cea0273d4"
  },
  {
   "metadata": {},
   "cell_type": "markdown",
   "source": "",
   "id": "624ce3c811f435bd"
  },
  {
   "metadata": {},
   "cell_type": "markdown",
   "source": [
    "| Пам'ятка        | Тип     | Місце              |\n",
    "|-----------------|---------|--------------------|\n",
    "| Озеро Ассаль     | Природна| Центральна Джибуті |\n",
    "| Лавові поля      | Природна| Південна Джибуті   |\n"
   ],
   "id": "6993b0d746b9b2ef"
  },
  {
   "metadata": {},
   "cell_type": "markdown",
   "source": "",
   "id": "ad50d323c6dece68"
  },
  {
   "metadata": {},
   "cell_type": "markdown",
   "source": [
    "<svg xmlns=\"http://www.w3.org/2000/svg\" viewBox=\"0 0 1000 500\">\n",
    "  <rect width=\"1000\" height=\"500\" fill=\"#007A33\"/>\n",
    "  <rect width=\"1000\" height=\"250\" y=\"250\" fill=\"#FFDE00\"/>\n",
    "  <polygon points=\"0,0 0,500 500,250\" fill=\"white\"/>\n",
    "  <polygon points=\"50,250 0,275 25,225 0,225 50,275\" fill=\"red\"/>\n",
    "</svg>\n"
   ],
   "id": "d7eefe72d19303cc"
  },
  {
   "metadata": {
    "ExecuteTime": {
     "end_time": "2024-09-05T10:52:49.534852Z",
     "start_time": "2024-09-05T10:52:49.529850Z"
    }
   },
   "cell_type": "code",
   "source": [
    "def bubble_sort(arr):\n",
    "    n = len(arr)\n",
    "    swap_count = 0\n",
    "    for i in range(n):\n",
    "        for j in range(0, n-i-1):\n",
    "            if arr[j] > arr[j+1]:\n",
    "                arr[j], arr[j+1] = arr[j+1], arr[j]\n",
    "                swap_count += 1\n",
    "    return arr, swap_count\n",
    "\n",
    "arr = [5, 6, 23, 8, 12, 5]\n",
    "sorted_arr, swaps = bubble_sort(arr)\n",
    "print(\"Відсортований список:\", sorted_arr)\n",
    "print(\"Кількість перестановок:\", swaps)\n"
   ],
   "id": "69b7a3668c58e84d",
   "outputs": [
    {
     "name": "stdout",
     "output_type": "stream",
     "text": [
      "Відсортований список: [5, 5, 6, 8, 12, 23]\n",
      "Кількість перестановок: 6\n"
     ]
    }
   ],
   "execution_count": 3
  },
  {
   "metadata": {
    "ExecuteTime": {
     "end_time": "2024-09-05T10:54:49.610671Z",
     "start_time": "2024-09-05T10:54:49.605764Z"
    }
   },
   "cell_type": "code",
   "source": [
    "# Тест 1\n",
    "arr1 = [5, 6, 23, 8, 12, 5]\n",
    "sorted_arr1, swaps1 = bubble_sort(arr1)\n",
    "print(f\"Відсортований список: {sorted_arr1}, Перестановки: {swaps1}\")\n",
    "\n",
    "# Тест 2\n",
    "arr2 = [7, 3, 1, 7, 4, 2, 8, 2]\n",
    "sorted_arr2, swaps2 = bubble_sort(arr2)\n",
    "print(f\"Відсортований список: {sorted_arr2}, Перестановки: {swaps2}\")\n"
   ],
   "id": "a8a86fba6f17aaab",
   "outputs": [
    {
     "name": "stdout",
     "output_type": "stream",
     "text": [
      "Відсортований список: [5, 5, 6, 8, 12, 23], Перестановки: 6\n",
      "Відсортований список: [1, 2, 2, 3, 4, 7, 7, 8], Перестановки: 14\n"
     ]
    }
   ],
   "execution_count": 4
  }
 ],
 "metadata": {
  "kernelspec": {
   "display_name": "Python 3",
   "language": "python",
   "name": "python3"
  },
  "language_info": {
   "codemirror_mode": {
    "name": "ipython",
    "version": 2
   },
   "file_extension": ".py",
   "mimetype": "text/x-python",
   "name": "python",
   "nbconvert_exporter": "python",
   "pygments_lexer": "ipython2",
   "version": "2.7.6"
  }
 },
 "nbformat": 4,
 "nbformat_minor": 5
}
