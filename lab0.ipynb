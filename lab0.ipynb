{
 "cells": [
  {
   "metadata": {
    "ExecuteTime": {
     "end_time": "2024-09-07T10:10:30.015291Z",
     "start_time": "2024-09-07T10:10:30.010441Z"
    }
   },
   "cell_type": "code",
   "source": [
    "N = ord('D') % 10 + 1\n",
    "print(f'Результат: {N}')"
   ],
   "id": "508bb893fb06f3e6",
   "outputs": [
    {
     "name": "stdout",
     "output_type": "stream",
     "text": [
      "Результат: 9\n"
     ]
    }
   ],
   "execution_count": 6
  },
  {
   "metadata": {
    "ExecuteTime": {
     "end_time": "2024-09-07T10:35:25.115058Z",
     "start_time": "2024-09-07T10:35:25.109229Z"
    }
   },
   "cell_type": "code",
   "source": [
    "def is_prime(n: int) -> bool:\n",
    "    if n < 2:\n",
    "        return False\n",
    "    for i in range(2, int(n**0.5) + 1):\n",
    "        if n % i == 0:\n",
    "            return False\n",
    "    return True\n",
    "\n",
    "def filter_and_sort_non_primes(numbers: list) -> list:\n",
    "    non_primes = [num for num in numbers if not is_prime(num)]\n",
    "    return sorted(non_primes, reverse=True)\n",
    "\n",
    "numbers = [3, 12, 15, 7, 11, 35, 18]\n",
    "result = filter_and_sort_non_primes(numbers)\n",
    "print(result)"
   ],
   "id": "3acd779f73a70e3e",
   "outputs": [
    {
     "name": "stdout",
     "output_type": "stream",
     "text": [
      "[35, 18, 15, 12]\n"
     ]
    }
   ],
   "execution_count": 8
  },
  {
   "metadata": {
    "ExecuteTime": {
     "end_time": "2024-09-07T10:45:28.658851Z",
     "start_time": "2024-09-07T10:45:28.656027Z"
    }
   },
   "cell_type": "code",
   "source": [
    "# Test 1\n",
    "print(filter_and_sort_non_primes([0, 34, 2, 1, 15, 22, 4, 23, 6])) \n",
    "\n",
    "# Test 2\n",
    "print(filter_and_sort_non_primes([5, 9, 12, 17, 20, 25]))  "
   ],
   "id": "c92a7cfab19bff5b",
   "outputs": [
    {
     "name": "stdout",
     "output_type": "stream",
     "text": [
      "[34, 22, 15, 6, 4, 1, 0]\n",
      "[25, 20, 12, 9]\n"
     ]
    }
   ],
   "execution_count": 9
  },
  {
   "metadata": {},
   "cell_type": "markdown",
   "source": [
    "<div style=\"border: 2px solid black; padding: 10px; background-color: #f9f9f9;\">\n",
    "  <h2 style=\"color: #2a9d8f;\">Чеська Республіка</h2>\n",
    "  <p><strong>Столиця:</strong> <span style=\"color: #e63946;\">Прага</span></p>\n",
    "  <p><em>Офіційна мова:</em> чеська</p>\n",
    "  <p><strong>Площа:</strong> 78 866 км²</p>\n",
    "</div>\n",
    "\n",
    "### Державний устрій\n",
    "Чехія є **парламентською республікою** з президентською формою правління. Столиця країни – **Прага**.\n",
    "\n",
    "## Видатні персоналії\n",
    "- **Томаш Масарик** — перший президент Чехословаччини.\n",
    "- **Вацлав Гавел** — останній президент Чехословаччини та перший президент Чехії.\n",
    "  - Відомий драматург та політик.\n",
    "- **Ян Гус** — чеський реформатор, який вплинув на європейську культуру.\n",
    "\n",
    "## Культура та природа\n",
    "### Основні пам'ятки:\n",
    "1. **Прага** — столиця Чехії, відома своєю архітектурою.\n",
    "2. **Карлів міст** — одна з найвизначніших історичних пам'яток.\n",
    "3. **Чеський Крумлов** — середньовічне місто, яке зберегло свій унікальний вигляд.\n",
    "\n",
    "### Природні пам'ятки:\n",
    "- Національні парки: **Шумава**, **Чеська Швейцарія**\n",
    "  - Гори: **Крконоше**, **Єсеніки**\n",
    "\n",
    "## Таблиця\n",
    "| Параметр      | Значення        |\n",
    "|---------------|-----------------|\n",
    "| Площа         | 78 866 км²      |\n",
    "| Населення     | 10,7 мільйонів  |\n",
    "| Столиця       | Прага           |\n",
    "\n",
    "### Прапор Чеської Республіки:\n",
    "<svg width=\"300\" height=\"200\">\n",
    "  <rect width=\"300\" height=\"100\" style=\"fill: white;\" />\n",
    "  <rect y=\"100\" width=\"300\" height=\"100\" style=\"fill: red;\" />\n",
    "  <polygon points=\"0,0 150,100 0,200\" style=\"fill: blue;\" />\n",
    "</svg>\n",
    "\n",
    "\n",
    "\n",
    "### [Детальніше про Чехію на Wikipedia](https://uk.wikipedia.org/wiki/Чехія)\n"
   ],
   "id": "e4ac46330e34ff50"
  }
 ],
 "metadata": {
  "kernelspec": {
   "display_name": "Python 3",
   "language": "python",
   "name": "python3"
  },
  "language_info": {
   "codemirror_mode": {
    "name": "ipython",
    "version": 2
   },
   "file_extension": ".py",
   "mimetype": "text/x-python",
   "name": "python",
   "nbconvert_exporter": "python",
   "pygments_lexer": "ipython2",
   "version": "2.7.6"
  }
 },
 "nbformat": 4,
 "nbformat_minor": 5
}
